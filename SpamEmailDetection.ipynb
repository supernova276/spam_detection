{
  "nbformat": 4,
  "nbformat_minor": 2,
  "metadata": {
    "colab": {
      "name": "SpamEmailDetection.ipynb",
      "provenance": [],
      "authorship_tag": "ABX9TyNeZcjwU16LvU3630t5QzHL",
      "include_colab_link": true
    },
    "kernelspec": {
      "name": "python3",
      "display_name": "Python 3"
    },
    "language_info": {
      "name": "python"
    }
  },
  "cells": [
    {
      "cell_type": "markdown",
      "source": [
        "<a href=\"https://colab.research.google.com/github/berensaat/Spam-detection/blob/main/SpamEmailDetection.ipynb\" target=\"_parent\"><img src=\"https://colab.research.google.com/assets/colab-badge.svg\" alt=\"Open In Colab\"/></a>"
      ],
      "metadata": {
        "id": "view-in-github",
        "colab_type": "text"
      }
    },
    {
      "cell_type": "code",
      "execution_count": 29,
      "source": [
        "from nltk.tokenize import RegexpTokenizer, word_tokenize\r\n",
        "from nltk.stem import PorterStemmer\r\n",
        "from nltk.corpus import stopwords\r\n",
        "import numpy as np\r\n",
        "import pandas as pd\r\n",
        "import nltk\r\n",
        "nltk.download('stopwords')\r\n",
        "from sklearn.preprocessing import LabelEncoder\r\n",
        "from sklearn.feature_extraction.text import CountVectorizer\r\n",
        "from sklearn.model_selection import train_test_split"
      ],
      "outputs": [
        {
          "output_type": "stream",
          "name": "stdout",
          "text": [
            "[nltk_data] Downloading package stopwords to /root/nltk_data...\n",
            "[nltk_data]   Package stopwords is already up-to-date!\n"
          ]
        }
      ],
      "metadata": {
        "colab": {
          "base_uri": "https://localhost:8080/"
        },
        "id": "foTqy7ZC_BB2",
        "outputId": "736cf914-111d-4361-b430-192cc2a46a96"
      }
    },
    {
      "cell_type": "code",
      "execution_count": 30,
      "source": [
        "df = pd.read_csv('/spam.csv', encoding='ISO-8859-1')\r\n",
        "le = LabelEncoder()"
      ],
      "outputs": [],
      "metadata": {
        "id": "JyuwuFwE_QWB"
      }
    },
    {
      "cell_type": "code",
      "execution_count": 31,
      "source": [
        "data = df.to_numpy()"
      ],
      "outputs": [],
      "metadata": {
        "id": "HqpEmbkoCaHt"
      }
    },
    {
      "cell_type": "code",
      "execution_count": 32,
      "source": [
        "tokenizer = RegexpTokenizer('\\w+')\r\n",
        "sw = set(stopwords.words('english'))\r\n",
        "ps = PorterStemmer()"
      ],
      "outputs": [],
      "metadata": {
        "id": "pIc-jvkUCicx"
      }
    },
    {
      "cell_type": "code",
      "execution_count": 33,
      "source": [
        "X = data[:, 1]\r\n",
        "y = data[:, 0]"
      ],
      "outputs": [],
      "metadata": {
        "id": "bzdqm3iRCfmF"
      }
    },
    {
      "cell_type": "code",
      "execution_count": 34,
      "source": [
        "X.shape, y.shape"
      ],
      "outputs": [
        {
          "output_type": "execute_result",
          "data": {
            "text/plain": [
              "((5572,), (5572,))"
            ]
          },
          "metadata": {
            "tags": []
          },
          "execution_count": 34
        }
      ],
      "metadata": {
        "colab": {
          "base_uri": "https://localhost:8080/"
        },
        "id": "smnVyKRrC1_H",
        "outputId": "cb695346-156c-419f-fc04-40f8e2de5f37"
      }
    },
    {
      "cell_type": "code",
      "execution_count": 35,
      "source": [
        "# get a clean document\r\n",
        "def getDoc(document):\r\n",
        "    d = []\r\n",
        "    for doc in document:\r\n",
        "        d.append(getStem(doc))\r\n",
        "    return d"
      ],
      "outputs": [],
      "metadata": {
        "id": "2tXEF17vCpbh"
      }
    },
    {
      "cell_type": "code",
      "execution_count": 36,
      "source": [
        "\r\n",
        "tokenizer = RegexpTokenizer('\\w+')\r\n",
        "sw = set(stopwords.words('english'))\r\n",
        "ps = PorterStemmer()"
      ],
      "outputs": [],
      "metadata": {
        "id": "nPmBJpYnCtiH"
      }
    },
    {
      "cell_type": "code",
      "execution_count": 37,
      "source": [
        "def getStem(review):\r\n",
        "    review = review.lower()\r\n",
        "    tokens = tokenizer.tokenize(review) # breaking into small words\r\n",
        "    removed_stopwords = [w for w in tokens if w not in sw]\r\n",
        "    stemmed_words = [ps.stem(token) for token in removed_stopwords]\r\n",
        "    clean_review = ' '.join(stemmed_words)\r\n",
        "    return clean_review"
      ],
      "outputs": [],
      "metadata": {
        "id": "9KwDsA2rCmNJ"
      }
    },
    {
      "cell_type": "code",
      "execution_count": 38,
      "source": [
        "# get a clean document\r\n",
        "def getDoc(document):\r\n",
        "    d = []\r\n",
        "    for doc in document:\r\n",
        "        d.append(getStem(doc))\r\n",
        "    return d"
      ],
      "outputs": [],
      "metadata": {
        "id": "OpxxTzsPEDPv"
      }
    },
    {
      "cell_type": "code",
      "execution_count": 39,
      "source": [
        "stemmed_doc = getDoc(X)"
      ],
      "outputs": [],
      "metadata": {
        "id": "DjVo-ilMELaZ"
      }
    },
    {
      "cell_type": "code",
      "execution_count": 40,
      "source": [
        "stemmed_doc[:10]"
      ],
      "outputs": [
        {
          "output_type": "execute_result",
          "data": {
            "text/plain": [
              "['go jurong point crazi avail bugi n great world la e buffet cine got amor wat',\n",
              " 'ok lar joke wif u oni',\n",
              " 'free entri 2 wkli comp win fa cup final tkt 21st may 2005 text fa 87121 receiv entri question std txt rate c appli 08452810075over18',\n",
              " 'u dun say earli hor u c alreadi say',\n",
              " 'nah think goe usf live around though',\n",
              " 'freemsg hey darl 3 week word back like fun still tb ok xxx std chg send å 1 50 rcv',\n",
              " 'even brother like speak treat like aid patent',\n",
              " 'per request mell mell oru minnaminungint nurungu vettam set callertun caller press 9 copi friend callertun',\n",
              " 'winner valu network custom select receivea å 900 prize reward claim call 09061701461 claim code kl341 valid 12 hour',\n",
              " 'mobil 11 month u r entitl updat latest colour mobil camera free call mobil updat co free 08002986030']"
            ]
          },
          "metadata": {
            "tags": []
          },
          "execution_count": 40
        }
      ],
      "metadata": {
        "colab": {
          "base_uri": "https://localhost:8080/"
        },
        "id": "t-_K4Kg7EOvb",
        "outputId": "8a6990af-cb97-4a64-fbea-3baba306b9aa"
      }
    },
    {
      "cell_type": "code",
      "execution_count": 41,
      "source": [
        "cv = CountVectorizer()"
      ],
      "outputs": [],
      "metadata": {
        "id": "t6ZopdCaESuU"
      }
    },
    {
      "cell_type": "code",
      "execution_count": 42,
      "source": [
        "# create my vocab\r\n",
        "vc = cv.fit_transform(stemmed_doc)"
      ],
      "outputs": [],
      "metadata": {
        "id": "Fi9Ar3mUEXkz"
      }
    },
    {
      "cell_type": "code",
      "execution_count": 43,
      "source": [
        "\r\n",
        "X = vc.todense()"
      ],
      "outputs": [],
      "metadata": {
        "id": "wl0d6oejEaOx"
      }
    },
    {
      "cell_type": "code",
      "execution_count": 44,
      "source": [
        "X_train, X_test, y_train, y_test = train_test_split(\r\n",
        "...     X, y, test_size=0.33, random_state=42)"
      ],
      "outputs": [],
      "metadata": {
        "id": "sz4LWEOUEdYV"
      }
    },
    {
      "cell_type": "code",
      "execution_count": 45,
      "source": [
        "# NB from sklearn\r\n"
      ],
      "outputs": [],
      "metadata": {
        "id": "iNSTH9J2EkZY"
      }
    },
    {
      "cell_type": "code",
      "execution_count": 46,
      "source": [
        "from sklearn.naive_bayes import MultinomialNB"
      ],
      "outputs": [],
      "metadata": {
        "id": "cwgnY5ebElad"
      }
    },
    {
      "cell_type": "code",
      "execution_count": 47,
      "source": [
        "model = MultinomialNB()\r\n",
        "model.fit(X_train, y_train)\r\n",
        "model.score(X_test, y_test)"
      ],
      "outputs": [
        {
          "output_type": "execute_result",
          "data": {
            "text/plain": [
              "0.977705274605764"
            ]
          },
          "metadata": {
            "tags": []
          },
          "execution_count": 47
        }
      ],
      "metadata": {
        "colab": {
          "base_uri": "https://localhost:8080/"
        },
        "id": "YTejjkRcEodw",
        "outputId": "50d23366-c8e8-4c73-a73d-88284d60f4d0"
      }
    },
    {
      "cell_type": "code",
      "execution_count": 48,
      "source": [
        "messages = [\r\n",
        "    \"\"\"\r\n",
        "    Hi XYZ,\r\n",
        "We invite you to participate in MishMash - India’s largest online diversity hackathon. \r\n",
        "The hackathon is a Skillenza initiative and sponsored by Microsoft, Unity, Unilever, Gojek, Rocketium and Jharkhand Government. \r\n",
        "We have a special theme for you - Deep Tech/Machine Learning - sponsored by Unilever, which will be perfect for you.\r\n",
        "    \"\"\",\r\n",
        "    \"\"\"Join us today at 12:00 PM ET / 16:00 UTC for a Red Hat DevNation tech talk on AWS Lambda and serverless Java with Bill Burke.\r\n",
        "Have you ever tried Java on AWS Lambda but found that the cold-start latency and memory usage were far too high? \r\n",
        "In this session, we will show how we optimized Java for serverless applications by leveraging GraalVM with Quarkus to \r\n",
        "provide both supersonic startup speed and a subatomic memory footprint.\"\"\",\r\n",
        "\r\n",
        "    \"\"\"We really appreciate your interest and wanted to let you know that we have received your application.\r\n",
        "There is strong competition for jobs at Intel, and we receive many applications. As a result, it may take some time to get back to you.\r\n",
        "Whether or not this position ends up being a fit, we will keep your information per data retention policies, \r\n",
        "so we can contact you for other positions that align to your experience and skill set.\r\n",
        "\"\"\",\r\n",
        "\r\n",
        "    \"\"\"Dear Customer, We want to gladly announce that the stock we recommended in our Idea2Act report - \r\n",
        "HG Infra, has achieved target price within 10 days.The recommendation was made \r\n",
        "on 17th May and the stock touched a market high of Rs.402 on 27th May. That is a 21% profit margin.\"\"\",\r\n",
        "\r\n",
        "\"\"\"Hey Akshita Dixit,\r\n",
        "Welcome to Coding Blocks evaluation platform. Thank you for registering for ACE THE INTERVIEW - ACCENTURE .\r\n",
        "Here are the details of the contest.\r\n",
        "Test window\t28 Jun 21 7:00 - 28 Jun 21 9:00\r\n",
        "Duration\t80 minutes\r\n",
        "Contest Link\thttps://hack.codingblocks.com/app/contests/2421\r\n",
        "You can attempt the test anytime after the test starts. Your test will automatically submit if the test duration is over or the test end time is reached, whichever is earlier.\r\n",
        "Note: Please verify your email address here to avoid last minute hassles.\r\n",
        "Feel free to reach out to us at support@codingblocks.com if you need any assistance with the contest.\"\"\"\r\n",
        "]"
      ],
      "outputs": [],
      "metadata": {
        "id": "pkrwGEPdEr2Q"
      }
    },
    {
      "cell_type": "code",
      "execution_count": 49,
      "source": [
        "def prepare(messages):\r\n",
        "    d = getDoc(messages)\r\n",
        "    # dont do fit_transform!! it will create new vocab.\r\n",
        "    return cv.transform(d)\r\n",
        "\r\n",
        "messages = prepare(messages)"
      ],
      "outputs": [],
      "metadata": {
        "id": "bwLMIMoyE29p"
      }
    },
    {
      "cell_type": "code",
      "execution_count": 50,
      "source": [
        "y_pred = model.predict(messages)\r\n",
        "y_pred"
      ],
      "outputs": [
        {
          "output_type": "execute_result",
          "data": {
            "text/plain": [
              "array(['ham', 'spam', 'ham', 'spam', 'ham'], dtype='<U4')"
            ]
          },
          "metadata": {
            "tags": []
          },
          "execution_count": 50
        }
      ],
      "metadata": {
        "colab": {
          "base_uri": "https://localhost:8080/"
        },
        "id": "q614cx4IE6sb",
        "outputId": "b21faf86-f3d7-487c-e775-7cd22e1567ab"
      }
    },
    {
      "cell_type": "code",
      "execution_count": 50,
      "source": [
        "\r\n"
      ],
      "outputs": [],
      "metadata": {
        "id": "JWqBYtw9E9r6"
      }
    }
  ]
}