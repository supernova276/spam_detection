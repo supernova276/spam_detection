{
  "cells": [
    {
      "cell_type": "markdown",
      "metadata": {
        "id": "view-in-github",
        "colab_type": "text"
      },
      "source": [
        "<a href=\"https://colab.research.google.com/github/supernova276/spam_detection/blob/main/CustomSpamEmailDet.ipynb\" target=\"_parent\"><img src=\"https://colab.research.google.com/assets/colab-badge.svg\" alt=\"Open In Colab\"/></a>"
      ]
    },
    {
      "cell_type": "code",
      "execution_count": 32,
      "metadata": {
        "colab": {
          "base_uri": "https://localhost:8080/",
          "height": 147
        },
        "id": "jK9K8jImmr8E",
        "outputId": "456d1234-c11f-4297-a287-04aa9cdf0254"
      },
      "outputs": [
        {
          "output_type": "stream",
          "name": "stderr",
          "text": [
            "[nltk_data] Downloading package omw-1.4 to /root/nltk_data...\n",
            "[nltk_data]   Package omw-1.4 is already up-to-date!\n",
            "[nltk_data] Downloading package stopwords to /root/nltk_data...\n",
            "[nltk_data]   Package stopwords is already up-to-date!\n",
            "[nltk_data] Downloading package wordnet to /root/nltk_data...\n",
            "[nltk_data]   Package wordnet is already up-to-date!\n"
          ]
        },
        {
          "output_type": "execute_result",
          "data": {
            "text/plain": [
              "'!\"#$%&\\'()*+,-./:;<=>?@[\\\\]^_`{|}~'"
            ],
            "application/vnd.google.colaboratory.intrinsic+json": {
              "type": "string"
            }
          },
          "metadata": {},
          "execution_count": 32
        }
      ],
      "source": [
        "import pandas as pd\n",
        "import nltk\n",
        "import string\n",
        "import matplotlib.pyplot as plt\n",
        "import numpy as np\n",
        "import seaborn as sns\n",
        "from nltk.corpus import stopwords\n",
        "nltk.download('omw-1.4')\n",
        "nltk.download('stopwords')\n",
        "nltk.download('wordnet')\n",
        "string.punctuation"
      ]
    },
    {
      "cell_type": "code",
      "execution_count": 33,
      "metadata": {
        "colab": {
          "base_uri": "https://localhost:8080/",
          "height": 206
        },
        "id": "wlKEwIE0pQaA",
        "outputId": "1c18b677-427f-434f-ab0b-d212ffd69bec"
      },
      "outputs": [
        {
          "output_type": "execute_result",
          "data": {
            "text/plain": [
              "   CATEGORY                                            MESSAGE  \\\n",
              "0         1  Dear Homeowner,\\n\\n \\n\\nInterest Rates are at ...   \n",
              "1         1  ATTENTION: This is a MUST for ALL Computer Use...   \n",
              "2         1  This is a multi-part message in MIME format.\\n...   \n",
              "3         1  IMPORTANT INFORMATION:\\n\\n\\n\\nThe new domain n...   \n",
              "4         1  This is the bottom line.  If you can GIVE AWAY...   \n",
              "\n",
              "                                FILE_NAME  \n",
              "0  00249.5f45607c1bffe89f60ba1ec9f878039a  \n",
              "1  00373.ebe8670ac56b04125c25100a36ab0510  \n",
              "2  00214.1367039e50dc6b7adb0f2aa8aba83216  \n",
              "3  00210.050ffd105bd4e006771ee63cabc59978  \n",
              "4  00033.9babb58d9298daa2963d4f514193d7d6  "
            ],
            "text/html": [
              "\n",
              "  <div id=\"df-2acf3569-4aaf-4245-ae43-8e54ce50f828\">\n",
              "    <div class=\"colab-df-container\">\n",
              "      <div>\n",
              "<style scoped>\n",
              "    .dataframe tbody tr th:only-of-type {\n",
              "        vertical-align: middle;\n",
              "    }\n",
              "\n",
              "    .dataframe tbody tr th {\n",
              "        vertical-align: top;\n",
              "    }\n",
              "\n",
              "    .dataframe thead th {\n",
              "        text-align: right;\n",
              "    }\n",
              "</style>\n",
              "<table border=\"1\" class=\"dataframe\">\n",
              "  <thead>\n",
              "    <tr style=\"text-align: right;\">\n",
              "      <th></th>\n",
              "      <th>CATEGORY</th>\n",
              "      <th>MESSAGE</th>\n",
              "      <th>FILE_NAME</th>\n",
              "    </tr>\n",
              "  </thead>\n",
              "  <tbody>\n",
              "    <tr>\n",
              "      <th>0</th>\n",
              "      <td>1</td>\n",
              "      <td>Dear Homeowner,\\n\\n \\n\\nInterest Rates are at ...</td>\n",
              "      <td>00249.5f45607c1bffe89f60ba1ec9f878039a</td>\n",
              "    </tr>\n",
              "    <tr>\n",
              "      <th>1</th>\n",
              "      <td>1</td>\n",
              "      <td>ATTENTION: This is a MUST for ALL Computer Use...</td>\n",
              "      <td>00373.ebe8670ac56b04125c25100a36ab0510</td>\n",
              "    </tr>\n",
              "    <tr>\n",
              "      <th>2</th>\n",
              "      <td>1</td>\n",
              "      <td>This is a multi-part message in MIME format.\\n...</td>\n",
              "      <td>00214.1367039e50dc6b7adb0f2aa8aba83216</td>\n",
              "    </tr>\n",
              "    <tr>\n",
              "      <th>3</th>\n",
              "      <td>1</td>\n",
              "      <td>IMPORTANT INFORMATION:\\n\\n\\n\\nThe new domain n...</td>\n",
              "      <td>00210.050ffd105bd4e006771ee63cabc59978</td>\n",
              "    </tr>\n",
              "    <tr>\n",
              "      <th>4</th>\n",
              "      <td>1</td>\n",
              "      <td>This is the bottom line.  If you can GIVE AWAY...</td>\n",
              "      <td>00033.9babb58d9298daa2963d4f514193d7d6</td>\n",
              "    </tr>\n",
              "  </tbody>\n",
              "</table>\n",
              "</div>\n",
              "      <button class=\"colab-df-convert\" onclick=\"convertToInteractive('df-2acf3569-4aaf-4245-ae43-8e54ce50f828')\"\n",
              "              title=\"Convert this dataframe to an interactive table.\"\n",
              "              style=\"display:none;\">\n",
              "        \n",
              "  <svg xmlns=\"http://www.w3.org/2000/svg\" height=\"24px\"viewBox=\"0 0 24 24\"\n",
              "       width=\"24px\">\n",
              "    <path d=\"M0 0h24v24H0V0z\" fill=\"none\"/>\n",
              "    <path d=\"M18.56 5.44l.94 2.06.94-2.06 2.06-.94-2.06-.94-.94-2.06-.94 2.06-2.06.94zm-11 1L8.5 8.5l.94-2.06 2.06-.94-2.06-.94L8.5 2.5l-.94 2.06-2.06.94zm10 10l.94 2.06.94-2.06 2.06-.94-2.06-.94-.94-2.06-.94 2.06-2.06.94z\"/><path d=\"M17.41 7.96l-1.37-1.37c-.4-.4-.92-.59-1.43-.59-.52 0-1.04.2-1.43.59L10.3 9.45l-7.72 7.72c-.78.78-.78 2.05 0 2.83L4 21.41c.39.39.9.59 1.41.59.51 0 1.02-.2 1.41-.59l7.78-7.78 2.81-2.81c.8-.78.8-2.07 0-2.86zM5.41 20L4 18.59l7.72-7.72 1.47 1.35L5.41 20z\"/>\n",
              "  </svg>\n",
              "      </button>\n",
              "      \n",
              "  <style>\n",
              "    .colab-df-container {\n",
              "      display:flex;\n",
              "      flex-wrap:wrap;\n",
              "      gap: 12px;\n",
              "    }\n",
              "\n",
              "    .colab-df-convert {\n",
              "      background-color: #E8F0FE;\n",
              "      border: none;\n",
              "      border-radius: 50%;\n",
              "      cursor: pointer;\n",
              "      display: none;\n",
              "      fill: #1967D2;\n",
              "      height: 32px;\n",
              "      padding: 0 0 0 0;\n",
              "      width: 32px;\n",
              "    }\n",
              "\n",
              "    .colab-df-convert:hover {\n",
              "      background-color: #E2EBFA;\n",
              "      box-shadow: 0px 1px 2px rgba(60, 64, 67, 0.3), 0px 1px 3px 1px rgba(60, 64, 67, 0.15);\n",
              "      fill: #174EA6;\n",
              "    }\n",
              "\n",
              "    [theme=dark] .colab-df-convert {\n",
              "      background-color: #3B4455;\n",
              "      fill: #D2E3FC;\n",
              "    }\n",
              "\n",
              "    [theme=dark] .colab-df-convert:hover {\n",
              "      background-color: #434B5C;\n",
              "      box-shadow: 0px 1px 3px 1px rgba(0, 0, 0, 0.15);\n",
              "      filter: drop-shadow(0px 1px 2px rgba(0, 0, 0, 0.3));\n",
              "      fill: #FFFFFF;\n",
              "    }\n",
              "  </style>\n",
              "\n",
              "      <script>\n",
              "        const buttonEl =\n",
              "          document.querySelector('#df-2acf3569-4aaf-4245-ae43-8e54ce50f828 button.colab-df-convert');\n",
              "        buttonEl.style.display =\n",
              "          google.colab.kernel.accessAllowed ? 'block' : 'none';\n",
              "\n",
              "        async function convertToInteractive(key) {\n",
              "          const element = document.querySelector('#df-2acf3569-4aaf-4245-ae43-8e54ce50f828');\n",
              "          const dataTable =\n",
              "            await google.colab.kernel.invokeFunction('convertToInteractive',\n",
              "                                                     [key], {});\n",
              "          if (!dataTable) return;\n",
              "\n",
              "          const docLinkHtml = 'Like what you see? Visit the ' +\n",
              "            '<a target=\"_blank\" href=https://colab.research.google.com/notebooks/data_table.ipynb>data table notebook</a>'\n",
              "            + ' to learn more about interactive tables.';\n",
              "          element.innerHTML = '';\n",
              "          dataTable['output_type'] = 'display_data';\n",
              "          await google.colab.output.renderOutput(dataTable, element);\n",
              "          const docLink = document.createElement('div');\n",
              "          docLink.innerHTML = docLinkHtml;\n",
              "          element.appendChild(docLink);\n",
              "        }\n",
              "      </script>\n",
              "    </div>\n",
              "  </div>\n",
              "  "
            ]
          },
          "metadata": {},
          "execution_count": 33
        }
      ],
      "source": [
        "df=pd.read_csv('/content/spamforNLP.csv')\n",
        "df.head()"
      ]
    },
    {
      "cell_type": "code",
      "execution_count": 34,
      "metadata": {
        "colab": {
          "base_uri": "https://localhost:8080/"
        },
        "id": "F6Y4KrOviVfl",
        "outputId": "060cb02a-41b5-4646-a4a7-8806947d2548"
      },
      "outputs": [
        {
          "output_type": "execute_result",
          "data": {
            "text/plain": [
              "(5796, 3)"
            ]
          },
          "metadata": {},
          "execution_count": 34
        }
      ],
      "source": [
        "df.shape"
      ]
    },
    {
      "cell_type": "code",
      "execution_count": 35,
      "metadata": {
        "colab": {
          "base_uri": "https://localhost:8080/"
        },
        "id": "F0boScLGg83m",
        "outputId": "2b5e6bbb-6cd8-49b7-e515-9ed80046288b"
      },
      "outputs": [
        {
          "output_type": "execute_result",
          "data": {
            "text/plain": [
              "CATEGORY     0\n",
              "MESSAGE      0\n",
              "FILE_NAME    0\n",
              "dtype: int64"
            ]
          },
          "metadata": {},
          "execution_count": 35
        }
      ],
      "source": [
        "df.isnull().sum()"
      ]
    },
    {
      "cell_type": "code",
      "execution_count": 36,
      "metadata": {
        "colab": {
          "base_uri": "https://localhost:8080/"
        },
        "id": "462blcZXrZqX",
        "outputId": "3bc42c12-9449-48f9-e4b3-c1d41b06c2a4"
      },
      "outputs": [
        {
          "output_type": "execute_result",
          "data": {
            "text/plain": [
              "0    3900\n",
              "1    1896\n",
              "Name: CATEGORY, dtype: int64"
            ]
          },
          "metadata": {},
          "execution_count": 36
        }
      ],
      "source": [
        "df['CATEGORY'].value_counts()"
      ]
    },
    {
      "cell_type": "code",
      "execution_count": 37,
      "metadata": {
        "colab": {
          "base_uri": "https://localhost:8080/"
        },
        "id": "Zb_EO2gUfr8F",
        "outputId": "8379c13b-3561-441f-a782-8a712587b0d4"
      },
      "outputs": [
        {
          "output_type": "execute_result",
          "data": {
            "text/plain": [
              "CATEGORY     0\n",
              "MESSAGE      0\n",
              "FILE_NAME    0\n",
              "dtype: int64"
            ]
          },
          "metadata": {},
          "execution_count": 37
        }
      ],
      "source": [
        "df.isnull().sum()"
      ]
    },
    {
      "cell_type": "code",
      "execution_count": 38,
      "metadata": {
        "id": "kGkI-OYDOr46",
        "colab": {
          "base_uri": "https://localhost:8080/",
          "height": 541
        },
        "outputId": "ee96fc42-21f2-40b9-f1ad-3cfc690205a1"
      },
      "outputs": [
        {
          "output_type": "display_data",
          "data": {
            "text/plain": [
              "<Figure size 800x600 with 1 Axes>"
            ],
            "image/png": "[encoded data removed]"
          },
          "metadata": {}
        }
      ],
      "source": [
        "label_counts = df.CATEGORY.value_counts()\n",
        "plt.figure(figsize = (8,6))\n",
        "sns.barplot(x=label_counts.index, y=label_counts.values, alpha = 0.9)\n",
        "\n",
        "plt.xticks(rotation = 'vertical')\n",
        "plt.xlabel('Spam', fontsize =12)\n",
        "plt.ylabel('Counts', fontsize = 12)\n",
        "plt.show()"
      ]
    },
    {
      "cell_type": "code",
      "execution_count": 39,
      "metadata": {
        "id": "nkzlmsGosXfK"
      },
      "outputs": [],
      "source": [
        "test=\"Subject: enron methanol ; meter # : 988291\\r\\n\""
      ]
    },
    {
      "cell_type": "code",
      "execution_count": 40,
      "metadata": {
        "id": "k6QPyjMoWrrl",
        "colab": {
          "base_uri": "https://localhost:8080/"
        },
        "outputId": "ce48b6a4-4470-42f5-dddd-83879cde5fa3"
      },
      "outputs": [
        {
          "output_type": "execute_result",
          "data": {
            "text/plain": [
              "['subject', 'enron', 'methanol', 'meter', '988291']"
            ]
          },
          "metadata": {},
          "execution_count": 40
        }
      ],
      "source": [
        "def message_to_tokens(s):\n",
        "  #removing the pucntuation and tokenize the string\n",
        "  tokenizer=nltk.RegexpTokenizer(r'\\w+')\n",
        "  tokens=tokenizer.tokenize(s)\n",
        "\n",
        "  #convert it into smaller case\n",
        "  tokens=[t.lower() for t in tokens]\n",
        "\n",
        "  #lemmatize the tokens\n",
        "  from nltk.stem import WordNetLemmatizer\n",
        "  Lemmatizer=WordNetLemmatizer()\n",
        "  lemmatized_tokens=[Lemmatizer.lemmatize(t) for t in tokens]\n",
        "\n",
        "  #removing stopwords\n",
        "  useful_tokens=[t for t in lemmatized_tokens if t not in stopwords.words('english')]\n",
        "  return useful_tokens\n",
        "message_to_tokens(test)"
      ]
    },
    {
      "cell_type": "code",
      "execution_count": 41,
      "metadata": {
        "id": "BC4PMzV_X5sC",
        "colab": {
          "base_uri": "https://localhost:8080/"
        },
        "outputId": "28052af5-453b-4453-a348-c59114142d11"
      },
      "outputs": [
        {
          "output_type": "execute_result",
          "data": {
            "text/plain": [
              "(      CATEGORY                                            MESSAGE  \\\n",
              " 0            1  \\n\\n<HTML><FONT  BACK=\"#ffffff\" style=\"BACKGRO...   \n",
              " 1            1  <html><body bgColor=\"#CCCCCC\" topmargin=1 onMo...   \n",
              " 2            0  Quoting Paul Linehan (plinehan@yahoo.com):\\n\\n...   \n",
              " 3            0  <a href=http://www.aaronsw.com/weblog/>\\n\\nAar...   \n",
              " 4            0  Oh yeah, the link for more info:\\n\\n\\n\\nhttp:/...   \n",
              " ...        ...                                                ...   \n",
              " 4631         0  Gregory Alan Bolcer:\\n\\n>I'm not sure since I ...   \n",
              " 4632         1  New Account For: zzzz@spamassassin.taint.org\\n...   \n",
              " 4633         0  >>>>> \"O\" == Owen Byrne <owen@permafrost.net> ...   \n",
              " 4634         0  This is an automated response to a message you...   \n",
              " 4635         0  http://www.ouchytheclown.com/welcome.html\\n\\n\\...   \n",
              " \n",
              "                                    FILE_NAME  \n",
              " 0     00118.141d803810acd9d4fc23db103dddfcd9  \n",
              " 1     00463.0bc4e08af0529dd773d9f10f922547db  \n",
              " 2     00358.87ee38040ac1f42320c7b89628b1850a  \n",
              " 3     01274.0d083a2d3b30061efdc2cc73ee9e76e3  \n",
              " 4     00756.2b2ec73ad20a4e0bdf31632ac019233b  \n",
              " ...                                      ...  \n",
              " 4631  00830.3a2cadbd29e654a7cbbf64ba4bdc378d  \n",
              " 4632  00354.dca4b8984863a76ffd01a33888498288  \n",
              " 4633  00346.f1d941485f6a20b29329111c59760585  \n",
              " 4634  00033.2ceb520d2c6500ccf24357f2ebdce618  \n",
              " 4635  00170.14c40e625814c14dfe2eb997157c6437  \n",
              " \n",
              " [4636 rows x 3 columns],\n",
              "       CATEGORY                                            MESSAGE  \\\n",
              " 0            0  This is just an semi-educated guess - if I'm w...   \n",
              " 1            1  ------=_NextPart_000_00B0_58C75D0E.A4523D08\\n\\...   \n",
              " 2            0  I seem to be getting the known spam message nu...   \n",
              " 3            0  \\n\\n\\n\\n>>>>> On Mon, 30 Sep 2002, \"Ted\" == Te...   \n",
              " 4            1  This is a multi-part message in MIME format.\\n...   \n",
              " ...        ...                                                ...   \n",
              " 1155         1  <html>\\n\\n\\n\\n<body>\\n\\n\\n\\n<font size=\"2\" PTS...   \n",
              " 1156         0  \\n\\n\\n\\nformail did the trick. Thanks to those...   \n",
              " 1157         0  URL: http://www.askbjoernhansen.com/archives/2...   \n",
              " 1158         1  <html>\\n\\n<head>\\n\\n   <meta http-equiv=3D\"Con...   \n",
              " 1159         0  >>>>> \"E\" == Elias Sinderson <elias@cse.ucsc.e...   \n",
              " \n",
              "                                    FILE_NAME  \n",
              " 0     01503.5e13994a5676296ed31b14e83367031c  \n",
              " 1     00441.3b9c3055e08bda4c0f7eea43749e324c  \n",
              " 2     00623.8bf6da05b986d3b16c208102e1c266f2  \n",
              " 3     01143.77077715a838bb473dad6a466d2e2403  \n",
              " 4     00224.1b3430b101a8a8b22493c4948fcbe9cc  \n",
              " ...                                      ...  \n",
              " 1155  00552.877d8dbff829787aa8349b433a8421f0  \n",
              " 1156  00647.97e77e8264c32c8b05077edc15721ba2  \n",
              " 1157  02055.80f7eff41824e0337e453a988ceda994  \n",
              " 1158  00376.f4ed5f002f9b6b320a67f1da9cacbe72  \n",
              " 1159  00987.1d700056f6a043acd5d388ca81fa0b1f  \n",
              " \n",
              " [1160 rows x 3 columns])"
            ]
          },
          "metadata": {},
          "execution_count": 41
        }
      ],
      "source": [
        "#partition the df into test and trainng set\n",
        "#shuffle the dataset\n",
        "df=df.sample(frac=1,random_state=1)\n",
        "df=df.reset_index(drop=True)\n",
        "\n",
        "split_index=int(len(df)*0.8)\n",
        "train_df,test_df=df[:split_index],df[split_index:]\n",
        "\n",
        "train_df=train_df.reset_index(drop=True)\n",
        "test_df=test_df.reset_index(drop=True)\n",
        "\n",
        "train_df,test_df"
      ]
    },
    {
      "cell_type": "code",
      "execution_count": 42,
      "metadata": {
        "id": "ttjqxGRyhOZA",
        "colab": {
          "base_uri": "https://localhost:8080/"
        },
        "outputId": "f0e7822b-5f9f-4f99-c43d-91b7d60eba43"
      },
      "outputs": [
        {
          "output_type": "execute_result",
          "data": {
            "text/plain": [
              "86415"
            ]
          },
          "metadata": {},
          "execution_count": 42
        }
      ],
      "source": [
        "#count the frequency of different tokens\n",
        "token_counter={}\n",
        "\n",
        "for message in train_df['MESSAGE']:\n",
        "  tokenized_message=message_to_tokens(message)\n",
        "\n",
        "  for token in tokenized_message:\n",
        "      if token in token_counter:\n",
        "        token_counter[token]+=1\n",
        "      else:\n",
        "       token_counter[token]=1\n",
        "\n",
        "len(token_counter)\n"
      ]
    },
    {
      "cell_type": "code",
      "execution_count": 43,
      "metadata": {
        "id": "bJmQ_J2OktPv"
      },
      "outputs": [],
      "source": [
        "#find the tokens with the most frequency\n",
        "def keep_tokens(token,threshold):\n",
        "  if token not in token_counter:\n",
        "    return False\n",
        "  else:\n",
        "    return token_counter[token]>threshold"
      ]
    },
    {
      "cell_type": "code",
      "execution_count": 44,
      "metadata": {
        "id": "tp9uGuQVlWp-"
      },
      "outputs": [],
      "source": [
        "#useful words\n",
        "#these are actually the features with the max frequency\n",
        "features=set()\n",
        "for token in token_counter:\n",
        "  if keep_tokens(token,2000):\n",
        "    features.add(token)"
      ]
    },
    {
      "cell_type": "code",
      "execution_count": 45,
      "metadata": {
        "id": "bBzKZMMol8kb"
      },
      "outputs": [],
      "source": [
        "#construct a list out of these features\n",
        "features=list(features)"
      ]
    },
    {
      "cell_type": "code",
      "execution_count": 46,
      "metadata": {
        "id": "18Xa5O_hmLnp"
      },
      "outputs": [],
      "source": [
        "#bags of words model\n",
        "# we map each token to a  corresponding string\n",
        "token_to_indexMapping={t:i for t,i in zip(features,range(len(features)))}"
      ]
    },
    {
      "cell_type": "code",
      "execution_count": 47,
      "metadata": {
        "id": "TkNvvpwJw1Os"
      },
      "outputs": [],
      "source": [
        "#converting a message into a vector\n",
        "def message_to_vector(message):\n",
        "  count_vector=np.zeros(len(features))\n",
        "  processed_list= message_to_tokens(message)\n",
        "\n",
        "  for token in processed_list:\n",
        "     if token not in features:\n",
        "       continue\n",
        "\n",
        "     index=token_to_indexMapping[token]\n",
        "     count_vector[index]+=1\n",
        "  return count_vector\n"
      ]
    },
    {
      "cell_type": "code",
      "execution_count": 48,
      "metadata": {
        "id": "b6HF4sFC0luS",
        "colab": {
          "base_uri": "https://localhost:8080/"
        },
        "outputId": "87ed8aa6-2b48-4c3c-a3d6-04d005d44134"
      },
      "outputs": [
        {
          "output_type": "execute_result",
          "data": {
            "text/plain": [
              "array([0., 0., 0., 0., 0., 0., 0., 0., 0., 0., 0., 0., 0., 0., 0., 0., 0.,\n",
              "       0., 0., 0., 0., 0., 0., 0., 0., 0., 0., 0., 0., 0., 0., 0., 0., 0.,\n",
              "       0., 0., 0., 0., 0., 0., 0., 0., 0., 0., 0., 0., 0., 0., 0., 0., 0.,\n",
              "       0., 0., 0., 0., 0., 0., 0., 0., 0., 0., 0., 0., 0., 0., 0., 0., 0.,\n",
              "       0., 0., 0., 0., 0., 0., 0., 0., 0., 0., 0., 0.])"
            ]
          },
          "metadata": {},
          "execution_count": 48
        }
      ],
      "source": [
        "message_to_vector('hi hello how do you do?')"
      ]
    },
    {
      "cell_type": "code",
      "execution_count": 49,
      "metadata": {
        "id": "DNbJlaQX3He3",
        "colab": {
          "base_uri": "https://localhost:8080/"
        },
        "outputId": "64c06194-aba0-458d-c58d-e33561803175"
      },
      "outputs": [
        {
          "output_type": "execute_result",
          "data": {
            "text/plain": [
              "CATEGORY                                                     1\n",
              "MESSAGE      \\n\\n<HTML><FONT  BACK=\"#ffffff\" style=\"BACKGRO...\n",
              "FILE_NAME               00118.141d803810acd9d4fc23db103dddfcd9\n",
              "Name: 0, dtype: object"
            ]
          },
          "metadata": {},
          "execution_count": 49
        }
      ],
      "source": [
        "train_df.iloc[0]"
      ]
    },
    {
      "cell_type": "code",
      "execution_count": 50,
      "metadata": {
        "id": "L1wkm7sb4WNp"
      },
      "outputs": [],
      "source": [
        "def df_to_Xy(dff):\n",
        "\n",
        "  y=dff['CATEGORY'].to_numpy().astype(int)\n",
        "  message_col=dff['MESSAGE']\n",
        "  count_vectors=[]\n",
        "\n",
        "  for message in message_col:\n",
        "    count_vector=message_to_vector(message)\n",
        "    count_vectors.append(count_vector)\n",
        "  X=np.array(count_vectors).astype(int)\n",
        "\n",
        "  return X,y"
      ]
    },
    {
      "cell_type": "code",
      "execution_count": 51,
      "metadata": {
        "id": "hUxc7F6F35JB",
        "colab": {
          "base_uri": "https://localhost:8080/"
        },
        "outputId": "832ada72-fb85-4cbe-c0f0-6bc2522d7fa1"
      },
      "outputs": [
        {
          "output_type": "execute_result",
          "data": {
            "text/plain": [
              "((4636, 80), (4636,), (1160, 80), (1160,))"
            ]
          },
          "metadata": {},
          "execution_count": 51
        }
      ],
      "source": [
        "X_train,y_train=df_to_Xy(train_df)\n",
        "X_test,y_test=df_to_Xy(test_df)\n",
        "\n",
        "X_train.shape,y_train.shape,X_test.shape,y_test.shape"
      ]
    },
    {
      "cell_type": "code",
      "execution_count": 52,
      "metadata": {
        "id": "6T2n6Ttf_TZW",
        "colab": {
          "base_uri": "https://localhost:8080/"
        },
        "outputId": "6e20e0c4-e3ce-4632-d35b-08984a8eb667"
      },
      "outputs": [
        {
          "output_type": "execute_result",
          "data": {
            "text/plain": [
              "array([[0.        , 0.09090909, 0.00245851, ..., 0.        , 0.        ,\n",
              "        0.        ],\n",
              "       [0.        , 0.01136364, 0.00860479, ..., 0.        , 0.05660377,\n",
              "        0.00363636],\n",
              "       [0.        , 0.        , 0.        , ..., 0.        , 0.01886792,\n",
              "        0.        ],\n",
              "       ...,\n",
              "       [0.        , 0.        , 0.        , ..., 0.        , 0.        ,\n",
              "        0.        ],\n",
              "       [0.        , 0.01136364, 0.        , ..., 0.        , 0.        ,\n",
              "        0.        ],\n",
              "       [0.        , 0.01136364, 0.        , ..., 0.        , 0.01886792,\n",
              "        0.        ]])"
            ]
          },
          "metadata": {},
          "execution_count": 52
        }
      ],
      "source": [
        "from sklearn.preprocessing import MinMaxScaler\n",
        "scaler=MinMaxScaler().fit(X_train)\n",
        "X_train,X_test=scaler.transform(X_train),scaler.transform(X_test)\n",
        "X_train"
      ]
    },
    {
      "cell_type": "code",
      "execution_count": 53,
      "metadata": {
        "id": "BOQeIgPdIA0A",
        "colab": {
          "base_uri": "https://localhost:8080/"
        },
        "outputId": "8ad348d0-fefb-440b-b524-3d814c8fe813"
      },
      "outputs": [
        {
          "output_type": "stream",
          "name": "stdout",
          "text": [
            "              precision    recall  f1-score   support\n",
            "\n",
            "           0       0.82      0.99      0.90       788\n",
            "           1       0.97      0.55      0.71       372\n",
            "\n",
            "    accuracy                           0.85      1160\n",
            "   macro avg       0.90      0.77      0.80      1160\n",
            "weighted avg       0.87      0.85      0.84      1160\n",
            "\n"
          ]
        }
      ],
      "source": [
        "from sklearn.linear_model import LogisticRegression\n",
        "from sklearn.metrics import classification_report\n",
        "lr=LogisticRegression().fit(X_train,y_train)\n",
        "print(classification_report(y_test,lr.predict(X_test)))\n"
      ]
    },
    {
      "cell_type": "code",
      "execution_count": 54,
      "metadata": {
        "id": "h3BddE4mMnb1",
        "colab": {
          "base_uri": "https://localhost:8080/"
        },
        "outputId": "a14d2a12-145e-498e-8a96-91061115d5d0"
      },
      "outputs": [
        {
          "output_type": "stream",
          "name": "stdout",
          "text": [
            "[[782   6]\n",
            " [166 206]]\n"
          ]
        },
        {
          "output_type": "execute_result",
          "data": {
            "text/plain": [
              "0.8517241379310345"
            ]
          },
          "metadata": {},
          "execution_count": 54
        }
      ],
      "source": [
        "from sklearn.metrics import confusion_matrix, accuracy_score\n",
        "cm = confusion_matrix(y_test, lr.predict(X_test))\n",
        "print(cm)\n",
        "accuracy_score(y_test,lr.predict(X_test))"
      ]
    },
    {
      "cell_type": "code",
      "execution_count": 55,
      "metadata": {
        "id": "Zmyuo6UwM5nT",
        "colab": {
          "base_uri": "https://localhost:8080/",
          "height": 448
        },
        "outputId": "8f41df02-6729-451d-ab0d-2747fa6cee42"
      },
      "outputs": [
        {
          "output_type": "execute_result",
          "data": {
            "text/plain": [
              "<Axes: >"
            ]
          },
          "metadata": {},
          "execution_count": 55
        },
        {
          "output_type": "display_data",
          "data": {
            "text/plain": [
              "<Figure size 640x480 with 2 Axes>"
            ],
            "image/png": "[encoded data removed]"
          },
          "metadata": {}
        }
      ],
      "source": [
        "sns.heatmap(cm, annot=True, fmt=\"d\")"
      ]
    },
    {
      "cell_type": "code",
      "execution_count": 56,
      "metadata": {
        "id": "gsFU7DKggL-v",
        "colab": {
          "base_uri": "https://localhost:8080/"
        },
        "outputId": "f8aa7333-89fa-46c3-8294-e2a6bc6e1dd5"
      },
      "outputs": [
        {
          "output_type": "stream",
          "name": "stdout",
          "text": [
            "              precision    recall  f1-score   support\n",
            "\n",
            "           0       0.92      0.96      0.94       788\n",
            "           1       0.90      0.81      0.85       372\n",
            "\n",
            "    accuracy                           0.91      1160\n",
            "   macro avg       0.91      0.88      0.89      1160\n",
            "weighted avg       0.91      0.91      0.91      1160\n",
            "\n"
          ]
        }
      ],
      "source": [
        "from sklearn.neighbors import KNeighborsClassifier\n",
        "from sklearn.metrics import classification_report\n",
        "knn=KNeighborsClassifier().fit(X_train,y_train)\n",
        "print(classification_report(y_test,knn.predict(X_test)))"
      ]
    },
    {
      "cell_type": "code",
      "execution_count": 57,
      "metadata": {
        "id": "oqlgTNvskPNZ",
        "colab": {
          "base_uri": "https://localhost:8080/"
        },
        "outputId": "162ea4b1-6851-476f-8240-569237ae85fe"
      },
      "outputs": [
        {
          "output_type": "stream",
          "name": "stdout",
          "text": [
            "              precision    recall  f1-score   support\n",
            "\n",
            "           0       0.83      0.99      0.90       788\n",
            "           1       0.97      0.57      0.72       372\n",
            "\n",
            "    accuracy                           0.86      1160\n",
            "   macro avg       0.90      0.78      0.81      1160\n",
            "weighted avg       0.88      0.86      0.84      1160\n",
            "\n"
          ]
        }
      ],
      "source": [
        "from sklearn.svm import SVC\n",
        "from sklearn.metrics import classification_report\n",
        "classifier=SVC(kernel='linear',random_state=0).fit(X_train,y_train)\n",
        "print(classification_report(y_test,classifier.predict(X_test)))"
      ]
    },
    {
      "cell_type": "code",
      "execution_count": 58,
      "metadata": {
        "id": "XPFQzR9qlbJ1",
        "colab": {
          "base_uri": "https://localhost:8080/"
        },
        "outputId": "8d994a78-fda9-4e6a-ef43-0b8bbfb46fff"
      },
      "outputs": [
        {
          "output_type": "stream",
          "name": "stdout",
          "text": [
            "              precision    recall  f1-score   support\n",
            "\n",
            "           0       0.80      0.99      0.89       788\n",
            "           1       0.94      0.49      0.64       372\n",
            "\n",
            "    accuracy                           0.83      1160\n",
            "   macro avg       0.87      0.74      0.76      1160\n",
            "weighted avg       0.85      0.83      0.81      1160\n",
            "\n"
          ]
        }
      ],
      "source": [
        "from sklearn.naive_bayes import GaussianNB\n",
        "from sklearn.metrics import classification_report\n",
        "gnb=GaussianNB().fit(X_train,y_train)\n",
        "print(classification_report(y_test,gnb.predict(X_test)))"
      ]
    },
    {
      "cell_type": "code",
      "execution_count": 59,
      "metadata": {
        "id": "ihW7XXrdl5yF",
        "colab": {
          "base_uri": "https://localhost:8080/"
        },
        "outputId": "1a63c2cb-85fb-4cb7-f669-96e00da2f01b"
      },
      "outputs": [
        {
          "output_type": "stream",
          "name": "stdout",
          "text": [
            "              precision    recall  f1-score   support\n",
            "\n",
            "           0       0.78      1.00      0.88       788\n",
            "           1       0.99      0.42      0.59       372\n",
            "\n",
            "    accuracy                           0.81      1160\n",
            "   macro avg       0.89      0.71      0.73      1160\n",
            "weighted avg       0.85      0.81      0.78      1160\n",
            "\n"
          ]
        }
      ],
      "source": [
        "from sklearn.naive_bayes import MultinomialNB\n",
        "from sklearn.metrics import classification_report\n",
        "mnb=MultinomialNB().fit(X_train,y_train)\n",
        "print(classification_report(y_test,mnb.predict(X_test)))"
      ]
    },
    {
      "cell_type": "code",
      "execution_count": 60,
      "metadata": {
        "id": "qffe5ftYLjVJ",
        "colab": {
          "base_uri": "https://localhost:8080/"
        },
        "outputId": "ecbe8e67-95bb-4249-8fab-58a5fc122dbb"
      },
      "outputs": [
        {
          "output_type": "stream",
          "name": "stdout",
          "text": [
            "              precision    recall  f1-score   support\n",
            "\n",
            "           0       0.96      0.98      0.97       788\n",
            "           1       0.97      0.92      0.94       372\n",
            "\n",
            "    accuracy                           0.96      1160\n",
            "   macro avg       0.96      0.95      0.96      1160\n",
            "weighted avg       0.96      0.96      0.96      1160\n",
            "\n"
          ]
        }
      ],
      "source": [
        "from sklearn.ensemble import RandomForestClassifier\n",
        "rc=RandomForestClassifier().fit(X_train,y_train)\n",
        "print(classification_report(y_test,rc.predict(X_test)))"
      ]
    },
    {
      "cell_type": "code",
      "execution_count": 61,
      "metadata": {
        "id": "o7tXfNXmNRiS",
        "colab": {
          "base_uri": "https://localhost:8080/"
        },
        "outputId": "f88d77dd-fdb5-45b4-86d2-44285194aad6"
      },
      "outputs": [
        {
          "output_type": "stream",
          "name": "stdout",
          "text": [
            "[[776  12]\n",
            " [ 31 341]]\n"
          ]
        },
        {
          "output_type": "execute_result",
          "data": {
            "text/plain": [
              "0.9629310344827586"
            ]
          },
          "metadata": {},
          "execution_count": 61
        }
      ],
      "source": [
        "from sklearn.metrics import confusion_matrix, accuracy_score\n",
        "cm = confusion_matrix(y_test, rc.predict(X_test))\n",
        "print(cm)\n",
        "accuracy_score(y_test,rc.predict(X_test))"
      ]
    },
    {
      "cell_type": "code",
      "execution_count": 62,
      "metadata": {
        "id": "qKdFqVK7NOfN",
        "colab": {
          "base_uri": "https://localhost:8080/",
          "height": 448
        },
        "outputId": "4de04f94-0ffc-4c54-9ad4-25e1529f561c"
      },
      "outputs": [
        {
          "output_type": "execute_result",
          "data": {
            "text/plain": [
              "<Axes: >"
            ]
          },
          "metadata": {},
          "execution_count": 62
        },
        {
          "output_type": "display_data",
          "data": {
            "text/plain": [
              "<Figure size 640x480 with 2 Axes>"
            ],
            "image/png": "[encoded data removed]"
          },
          "metadata": {}
        }
      ],
      "source": [
        "import seaborn as sns\n",
        "sns.heatmap(cm, annot=True, fmt=\"d\",cmap=\"Blues\")"
      ]
    }
  ],
  "metadata": {
    "colab": {
      "provenance": [],
      "authorship_tag": "ABX9TyPWaiOPt19iQ+xKu6b8Tomf",
      "include_colab_link": true
    },
    "kernelspec": {
      "display_name": "Python 3",
      "name": "python3"
    },
    "language_info": {
      "name": "python"
    }
  },
  "nbformat": 4,
  "nbformat_minor": 0
}